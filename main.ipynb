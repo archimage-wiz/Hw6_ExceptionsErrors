{
 "cells": [
  {
   "cell_type": "markdown",
   "id": "initial_id",
   "metadata": {
    "collapsed": true
   },
   "source": [
    "### 3адание 1"
   ]
  },
  {
   "cell_type": "code",
   "execution_count": 19,
   "id": "7cfc3e05",
   "metadata": {},
   "outputs": [
    {
     "name": "stdout",
     "output_type": "stream",
     "text": [
      "<class 'datetime.datetime'> 2002-10-02 00:00:00\n",
      "<class 'datetime.datetime'> 2013-10-11 00:00:00\n",
      "<class 'datetime.datetime'> 1977-08-18 00:00:00\n"
     ]
    }
   ],
   "source": [
    "from datetime import datetime\n",
    "\n",
    "date1 = \"The Moscow Times — Wednesday, October 2, 2002\"\n",
    "date2 = \"The Guardian — Friday, 11.10.13\"\n",
    "date3 = \"Daily News — Thursday, 18 August 1977\"\n",
    "\n",
    "dt1 = datetime.strptime(date1.split(\"—\")[1].strip(), \"%A, %B %d, %Y\")\n",
    "print(type(dt1), dt1)\n",
    "dt2 = datetime.strptime(date2.split(\"—\")[1].strip(), \"%A, %d.%m.%y\")\n",
    "print(type(dt2), dt2)\n",
    "dt3 = datetime.strptime(date3.split(\"—\")[1].strip(), \"%A, %d %B %Y\")\n",
    "print(type(dt3), dt3)"
   ]
  },
  {
   "cell_type": "markdown",
   "id": "92633332",
   "metadata": {},
   "source": [
    "### 3адание 2"
   ]
  },
  {
   "cell_type": "code",
   "execution_count": 22,
   "id": "f9efdd31",
   "metadata": {},
   "outputs": [
    {
     "name": "stdout",
     "output_type": "stream",
     "text": [
      "2018-04-02 Корректная\n",
      "2018-02-29 Некорректная (day is out of range for month)\n",
      "2018-19-02 Некорректная (time data '2018-19-02' does not match format '%Y-%m-%d')\n"
     ]
    }
   ],
   "source": [
    "stream = [\"2018-04-02\", \"2018-02-29\", \"2018-19-02\"]\n",
    "\n",
    "for date in stream:\n",
    "    try:\n",
    "        dt = datetime.strptime(date, \"%Y-%m-%d\")\n",
    "        print(date, \"Корректная\")\n",
    "    except Exception as e:\n",
    "        print(date, \"Некорректная\", f\"({e})\")"
   ]
  },
  {
   "cell_type": "markdown",
   "id": "a1f7b934",
   "metadata": {},
   "source": [
    "### 3адание 3"
   ]
  },
  {
   "cell_type": "code",
   "execution_count": 30,
   "id": "60879ec50a4de62d",
   "metadata": {},
   "outputs": [
    {
     "data": {
      "text/plain": [
       "['2023-09-15', '2023-09-16', '2023-09-17']"
      ]
     },
     "execution_count": 30,
     "metadata": {},
     "output_type": "execute_result"
    }
   ],
   "source": [
    "from datetime import timedelta\n",
    "from datetime import datetime\n",
    "\n",
    "\n",
    "def date_range(start_date: str, end_date: str):\n",
    "    \"\"\"\n",
    "    Generate a list of dates between the start_date and end_date (inclusive).\n",
    "    \n",
    "    Args:\n",
    "        start_date (str): The start date in the format \"YYYY-MM-DD\".\n",
    "        end_date (str): The end date in the format \"YYYY-MM-DD\".\n",
    "    \n",
    "    Returns:\n",
    "        list: A list of dates between the start_date and end_date.\n",
    "    \"\"\"\n",
    "    result_list = list()\n",
    "    try:\n",
    "        if start_date >= end_date:\n",
    "            return result_list\n",
    "        start_date_l = datetime.strptime(start_date, \"%Y-%m-%d\")\n",
    "        end_date_l = datetime.strptime(end_date, \"%Y-%m-%d\")\n",
    "    except Exception as e:\n",
    "        return result_list\n",
    "    for i in range((end_date_l - start_date_l).days + 1):\n",
    "        result_list.append(datetime.strftime(start_date_l + timedelta(days=i), \"%Y-%m-%d\"))\n",
    "    return result_list\n",
    "\n",
    "\n",
    "date_range(\"2023-09-15\", \"2023-09-17\")\n"
   ]
  },
  {
   "cell_type": "markdown",
   "id": "3b6928f4",
   "metadata": {},
   "source": [
    "Задание 4 (починил код коллеги)"
   ]
  },
  {
   "cell_type": "code",
   "execution_count": 2,
   "id": "ee6c2f2a8f486281",
   "metadata": {
    "ExecuteTime": {
     "end_time": "2023-09-19T10:33:44.240342900Z",
     "start_time": "2023-09-19T10:33:44.229686400Z"
    },
    "collapsed": false
   },
   "outputs": [
    {
     "name": "stdout",
     "output_type": "stream",
     "text": [
      "A102\n",
      "A101\n",
      "A100\n",
      "None\n"
     ]
    },
    {
     "data": {
      "text/plain": [
       "'\\ndef Объяснительная:\\n    В связи с тем, что при обращении к несуществующему элементу списка возникает ошибка, применяется любой доступный способ проверки на существование элемента в списке\\n'"
      ]
     },
     "execution_count": 2,
     "metadata": {},
     "output_type": "execute_result"
    }
   ],
   "source": [
    "\n",
    "def delete_and_return_last_user(default_list: list = [\"A100\", \"A101\", \"A102\"]):\n",
    "    \"\"\" Удаляет из списка default_list последнего пользователя\n",
    "        и возвращает ID нового последнего пользователя.\n",
    "    \"\"\"\n",
    "    try:\n",
    "        element_to_delete = default_list[-1]\n",
    "        default_list.remove(element_to_delete)\n",
    "        return element_to_delete\n",
    "    except:\n",
    "        return\n",
    "\n",
    "\n",
    "print(delete_and_return_last_user())\n",
    "print(delete_and_return_last_user())\n",
    "print(delete_and_return_last_user())\n",
    "print(delete_and_return_last_user())\n",
    "\n",
    "\"\"\"\n",
    "def Объяснительная:\n",
    "    В связи с тем, что при обращении к несуществующему элементу списка возникает ошибка, \n",
    "    применяется любой доступный способ проверки на существование элемента в списке.\n",
    "    Для проверки длинны списка использовать функцию len() :)\n",
    "\"\"\""
   ]
  }
 ],
 "metadata": {
  "kernelspec": {
   "display_name": "Python 3",
   "language": "python",
   "name": "python3"
  },
  "language_info": {
   "codemirror_mode": {
    "name": "ipython",
    "version": 3
   },
   "file_extension": ".py",
   "mimetype": "text/x-python",
   "name": "python",
   "nbconvert_exporter": "python",
   "pygments_lexer": "ipython3",
   "version": "3.11.4"
  }
 },
 "nbformat": 4,
 "nbformat_minor": 5
}
